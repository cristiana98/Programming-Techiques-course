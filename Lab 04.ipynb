{
 "cells": [
  {
   "cell_type": "code",
   "execution_count": 2,
   "metadata": {},
   "outputs": [
    {
     "name": "stdout",
     "output_type": "stream",
     "text": [
      "[1000.0, 1100.0, 1210.0000000000002, 1331.0000000000005, 1464.1000000000004, 1610.5100000000004]\n"
     ]
    }
   ],
   "source": [
    "#ANOTHER WAY TO SOLVE QUESTION 1\n",
    "salesInitial = 1000\n",
    "rate=0.1\n",
    "n=6\n",
    "sales = []\n",
    "for i in range(0,n):\n",
    "    sales.append(salesInitial*(1+rate)**i)\n",
    "\n",
    "print(sales)"
   ]
  },
  {
   "cell_type": "code",
   "execution_count": 3,
   "metadata": {},
   "outputs": [
    {
     "data": {
      "text/plain": [
       "[300.00000000000006,\n",
       " 330.00000000000006,\n",
       " 363.0000000000001,\n",
       " 399.3000000000002,\n",
       " 439.2300000000002,\n",
       " 483.1530000000002]"
      ]
     },
     "execution_count": 3,
     "metadata": {},
     "output_type": "execute_result"
    }
   ],
   "source": [
    "#QUESTION 2 - Based on the previews list, create a list with costs knowing the profit margin: margin =70%\n",
    "\n",
    "PM = 0.7\n",
    "\n",
    "costs = []\n",
    "for i in sales:\n",
    "    costs.append(i*(1-PM))\n",
    "\n",
    "costs"
   ]
  },
  {
   "cell_type": "code",
   "execution_count": 4,
   "metadata": {},
   "outputs": [
    {
     "name": "stdout",
     "output_type": "stream",
     "text": [
      "[700.0, 770.0, 847.0000000000001, 931.7000000000003, 1024.8700000000001, 1127.3570000000002]\n"
     ]
    }
   ],
   "source": [
    "#QUESTION 3 - Create a list with the profit based on the last 2 exercises (profit = sales - cost)\n",
    "\n",
    "profit=[]\n",
    "for i in range(0,n):\n",
    "    profit.append(sales[i]-costs[i])\n",
    "\n",
    "print(profit)"
   ]
  },
  {
   "cell_type": "code",
   "execution_count": 5,
   "metadata": {},
   "outputs": [
    {
     "data": {
      "text/plain": [
       "[200.0,\n",
       " 270.0,\n",
       " 347.0000000000001,\n",
       " 431.7000000000003,\n",
       " 524.8700000000001,\n",
       " 627.3570000000002]"
      ]
     },
     "execution_count": 5,
     "metadata": {},
     "output_type": "execute_result"
    }
   ],
   "source": [
    "#QUESTION 4 - Calculete a newProfit suposing 500 of fixed costs\n",
    "PM=0.7\n",
    "fixedCost=500\n",
    "\n",
    "newProfit = []\n",
    "for i in sales:\n",
    "    newProfit.append(i*PM-500)\n",
    "\n",
    "newProfit"
   ]
  },
  {
   "cell_type": "code",
   "execution_count": 6,
   "metadata": {},
   "outputs": [
    {
     "name": "stdout",
     "output_type": "stream",
     "text": [
      "[1059, 768, 1422, 339, 327, 1672]\n"
     ]
    }
   ],
   "source": [
    "#QUESTION 5 -  Create a newSales list with random generated values between 200 and 2000. Corresponding to volume of sales during a certainn numberOfYears. some ints:\n",
    "\n",
    "import random \n",
    "newSales=[]\n",
    "for i in range(0,len(newProfit)):\n",
    "    newSales.append(random.randint(200,2000))\n",
    "\n",
    "print(newSales)"
   ]
  },
  {
   "cell_type": "code",
   "execution_count": 10,
   "metadata": {},
   "outputs": [
    {
     "name": "stdout",
     "output_type": "stream",
     "text": [
      "[241.29999999999995, 37.59999999999991, 495.4, -262.70000000000005, -271.1, 670.3999999999999]\n"
     ]
    }
   ],
   "source": [
    "#QUESTION 6 - Create a new list with profits (newProfit). With margin 70% with fixed costs stated previously\n",
    "\n",
    "margin=0.7\n",
    "fixedCosts = 500\n",
    "newProfit = []\n",
    "for x in range(n):\n",
    "    newProfit.append(((newSales[x])*margin)-fixedCosts)\n",
    "    \n",
    "print(newProfit)\n",
    "    "
   ]
  },
  {
   "cell_type": "code",
   "execution_count": 11,
   "metadata": {},
   "outputs": [
    {
     "name": "stdout",
     "output_type": "stream",
     "text": [
      "66.66666666666666\n"
     ]
    }
   ],
   "source": [
    "#QUESTION 7 - What is the percentage of years having profits in the total?\n",
    "\n",
    "perc=[]\n",
    "for i in range(n):\n",
    "    if newProfit[i]>0:\n",
    "        perc.append(i)\n",
    "\n",
    "profit=len(perc)/len(newProfit)*100\n",
    "print(profit)"
   ]
  },
  {
   "cell_type": "code",
   "execution_count": 13,
   "metadata": {},
   "outputs": [
    {
     "data": {
      "text/plain": [
       "<function matplotlib.pyplot.draw()>"
      ]
     },
     "execution_count": 13,
     "metadata": {},
     "output_type": "execute_result"
    },
    {
     "data": {
      "image/png": "[encoded data removed]",
      "text/plain": [
       "<Figure size 432x288 with 1 Axes>"
      ]
     },
     "metadata": {
      "needs_background": "light"
     },
     "output_type": "display_data"
    }
   ],
   "source": [
    "#QUESTION 8 - Plot the sales and the newSales (generated randomly) throughout the years\n",
    "\n",
    "import matplotlib.pyplot as plt\n",
    "plt.plot(sales)\n",
    "plt.plot(newSales)\n",
    "plt.ylabel('sales')\n",
    "plt.xlabel('years')\n",
    "plt.draw"
   ]
  },
  {
   "cell_type": "code",
   "execution_count": null,
   "metadata": {},
   "outputs": [],
   "source": []
  }
 ],
 "metadata": {
  "kernelspec": {
   "display_name": "Python 3",
   "language": "python",
   "name": "python3"
  },
  "language_info": {
   "codemirror_mode": {
    "name": "ipython",
    "version": 3
   },
   "file_extension": ".py",
   "mimetype": "text/x-python",
   "name": "python",
   "nbconvert_exporter": "python",
   "pygments_lexer": "ipython3",
   "version": "3.7.3"
  }
 },
 "nbformat": 4,
 "nbformat_minor": 2
}
