{
 "cells": [
  {
   "cell_type": "markdown",
   "metadata": {},
   "source": [
    "# Lab 8 \n",
    "\n",
    "A simple chatbot\n",
    "\n",
    "**1.** Create a function that asks the user his name and says Hello, John Doe\n",
    "\n",
    "**2.** Create a function called chat that ask the user what is his problem and will answer \"yes of course\"\n",
    "\n",
    "**3.** Create a function called chat that ask the user what is his problem and will answer randomly among 6 possible answers\n",
    "\n",
    "**4.** Put all together and improve\n"
   ]
  },
  {
   "cell_type": "markdown",
   "metadata": {},
   "source": [
    "**1.** Create a function that ask the user his name and says Hello, John Doe"
   ]
  },
  {
   "cell_type": "code",
   "execution_count": 2,
   "metadata": {},
   "outputs": [
    {
     "name": "stdout",
     "output_type": "stream",
     "text": [
      "What is your name? Cristiana\n"
     ]
    },
    {
     "data": {
      "text/plain": [
       "'Nice to meet you,  Cristiana'"
      ]
     },
     "execution_count": 2,
     "metadata": {},
     "output_type": "execute_result"
    }
   ],
   "source": [
    "# Create a function that ask the user his name and says Hello, John Doe\n",
    "\n",
    "def chat (question, answer):\n",
    "    msg = \"\"\n",
    "    while msg == \"\":\n",
    "        msg = input(question)\n",
    "    return str(answer) + \" \" + str(msg)\n",
    "\n",
    "chat(\"What is your name? \", \"Nice to meet you, \")   \n"
   ]
  },
  {
   "cell_type": "markdown",
   "metadata": {},
   "source": [
    "**2.** Create a function called chat that ask the user what is his problem and will answer \"yes of course\""
   ]
  },
  {
   "cell_type": "code",
   "execution_count": 4,
   "metadata": {},
   "outputs": [
    {
     "name": "stdout",
     "output_type": "stream",
     "text": [
      "What is your problem?  trial 1\n",
      "Yes, of course\n",
      "What is your problem? trial 2\n",
      "Yes, of course\n",
      "What is your problem? trial 3\n",
      "Yes, of course\n",
      "What is your problem? bye\n",
      "Yes, of course\n"
     ]
    }
   ],
   "source": [
    "# Create a function called chat that ask the user what is his problem and will answer \"yes of course\"\n",
    "def chat():\n",
    "    problem = \"\"\n",
    "    while problem != \"bye\":\n",
    "        problem = input(\"What is your problem? \")\n",
    "        print(\"Yes, of course\")\n",
    "        \n",
    "chat()"
   ]
  },
  {
   "cell_type": "markdown",
   "metadata": {},
   "source": [
    "**3.** Create a function called chat that ask the user what is his problem and will answer randomly among 6 possible answers"
   ]
  },
  {
   "cell_type": "code",
   "execution_count": 1,
   "metadata": {},
   "outputs": [
    {
     "name": "stdout",
     "output_type": "stream",
     "text": [
      "What is your problem? hhj\n",
      "You will be fine.\n",
      "What is your problem? jbhu\n",
      "Hi\n",
      "What is your problem? ok\n",
      "Hi\n"
     ]
    }
   ],
   "source": [
    "# Create a function called chat that ask the user what is his problem and will answer randomly among 6 possible answers\n",
    "import random\n",
    "randomAnswers = \"You will be fine.\", \"Hi\",\"Nice to meet you.\", \"Thanks for your message\", \"Life is great.\"\n",
    "def chat():\n",
    "    problem1=\"\"\n",
    "    while problem1!=\"ok\":\n",
    "        problem1=input(\"What is your problem? \")\n",
    "        print(random.choice(randomAnswers))\n",
    "chat()"
   ]
  },
  {
   "cell_type": "code",
   "execution_count": 11,
   "metadata": {},
   "outputs": [
    {
     "name": "stdout",
     "output_type": "stream",
     "text": [
      "What is your problem? YOU\n",
      "Thanks for your message\n"
     ]
    }
   ],
   "source": [
    "import random\n",
    "randomAnswers = [\"You will be fine.\", \"Hi\",\"Nice to meet you.\", \"Thanks for your message\", \"Life is great.\"]\n",
    "\n",
    "def randchat():\n",
    "    question=input(\"What is your problem? \")\n",
    "    print(randomAnswers[random.randint(0,len(randomAnswers)-1)])\n",
    "\n",
    "randchat()"
   ]
  },
  {
   "cell_type": "markdown",
   "metadata": {},
   "source": [
    "**4.** Put all together and improve"
   ]
  },
  {
   "cell_type": "code",
   "execution_count": null,
   "metadata": {},
   "outputs": [],
   "source": []
  },
  {
   "cell_type": "code",
   "execution_count": null,
   "metadata": {},
   "outputs": [],
   "source": []
  }
 ],
 "metadata": {
  "kernelspec": {
   "display_name": "Python 3",
   "language": "python",
   "name": "python3"
  },
  "language_info": {
   "codemirror_mode": {
    "name": "ipython",
    "version": 3
   },
   "file_extension": ".py",
   "mimetype": "text/x-python",
   "name": "python",
   "nbconvert_exporter": "python",
   "pygments_lexer": "ipython3",
   "version": "3.7.3"
  }
 },
 "nbformat": 4,
 "nbformat_minor": 2
}
